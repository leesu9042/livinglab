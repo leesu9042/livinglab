{
 "cells": [
  {
   "cell_type": "code",
   "execution_count": 53,
   "outputs": [
    {
     "data": {
      "text/plain": "  eventName            date   time     place  personnel  dong  \\\n0     나도집갈래  2010.12.20 (월)  05:25        대마         99  온천2동   \n1     어엄...  2011.12.22 (목)  16:20    대마초등학교         99   상대동   \n2       집갈래  2024.11.21 (목)  17:16  대마고1학년4반          2   신성동   \n3       집갈래  2024.11.22 (금)  17:16  대마고1학년4반          2   신성동   \n4       집갈래  2024.11.23 (토)  17:16  대마고1학년4반          2   신성동   \n5     이벤트-1  2024.11.23 (토)  17:16  대마고1학년4반          2    공동   \n\n               phone  \n0  엄준식 010-1234-1234  \n1  엄복동 010-1234-1234  \n2  집갈래 010-1234-1234  \n3  집갈래 010-1234-1234  \n4  집갈래 010-1234-1234  \n5  집갈래 010-1234-1234  ",
      "text/html": "<div>\n<style scoped>\n    .dataframe tbody tr th:only-of-type {\n        vertical-align: middle;\n    }\n\n    .dataframe tbody tr th {\n        vertical-align: top;\n    }\n\n    .dataframe thead th {\n        text-align: right;\n    }\n</style>\n<table border=\"1\" class=\"dataframe\">\n  <thead>\n    <tr style=\"text-align: right;\">\n      <th></th>\n      <th>eventName</th>\n      <th>date</th>\n      <th>time</th>\n      <th>place</th>\n      <th>personnel</th>\n      <th>dong</th>\n      <th>phone</th>\n    </tr>\n  </thead>\n  <tbody>\n    <tr>\n      <th>0</th>\n      <td>나도집갈래</td>\n      <td>2010.12.20 (월)</td>\n      <td>05:25</td>\n      <td>대마</td>\n      <td>99</td>\n      <td>온천2동</td>\n      <td>엄준식 010-1234-1234</td>\n    </tr>\n    <tr>\n      <th>1</th>\n      <td>어엄...</td>\n      <td>2011.12.22 (목)</td>\n      <td>16:20</td>\n      <td>대마초등학교</td>\n      <td>99</td>\n      <td>상대동</td>\n      <td>엄복동 010-1234-1234</td>\n    </tr>\n    <tr>\n      <th>2</th>\n      <td>집갈래</td>\n      <td>2024.11.21 (목)</td>\n      <td>17:16</td>\n      <td>대마고1학년4반</td>\n      <td>2</td>\n      <td>신성동</td>\n      <td>집갈래 010-1234-1234</td>\n    </tr>\n    <tr>\n      <th>3</th>\n      <td>집갈래</td>\n      <td>2024.11.22 (금)</td>\n      <td>17:16</td>\n      <td>대마고1학년4반</td>\n      <td>2</td>\n      <td>신성동</td>\n      <td>집갈래 010-1234-1234</td>\n    </tr>\n    <tr>\n      <th>4</th>\n      <td>집갈래</td>\n      <td>2024.11.23 (토)</td>\n      <td>17:16</td>\n      <td>대마고1학년4반</td>\n      <td>2</td>\n      <td>신성동</td>\n      <td>집갈래 010-1234-1234</td>\n    </tr>\n    <tr>\n      <th>5</th>\n      <td>이벤트-1</td>\n      <td>2024.11.23 (토)</td>\n      <td>17:16</td>\n      <td>대마고1학년4반</td>\n      <td>2</td>\n      <td>공동</td>\n      <td>집갈래 010-1234-1234</td>\n    </tr>\n  </tbody>\n</table>\n</div>"
     },
     "execution_count": 53,
     "metadata": {},
     "output_type": "execute_result"
    }
   ],
   "source": [
    "from datetime import datetime\n",
    "import pandas as pd\n",
    "import json\n",
    "\n",
    "with open(r'../../testjsondata/dongData.json', 'r', encoding='utf-8') as f:\n",
    "\n",
    "    json_data = json.load(f)\n",
    "\n",
    "# print(json.dumps(json_data, ensure_ascii=False, indent=4))\n",
    "#dumps 함수 json을 문자열로 변환해서 출력\n",
    "#ensure_ascii = False -> 한글 안깨지게\n",
    "\n",
    "\n",
    "\n",
    "\n",
    "# 1. 데이터프레임 생성\n",
    "df = pd.DataFrame(json_data[\"data\"])\n",
    "\n",
    "# 2. date 컬럼 변환 및 정렬\n",
    "# df[\"date\"] = df[\"date\"].apply(lambda x: datetime.strptime(x.split(\" \")[0], \"%Y.%m.%d\"))\n",
    "# df_sorted = df.sort_values(by=\"date\")\n",
    "\n",
    "# 결과 출력\n",
    "\n",
    "df"
   ],
   "metadata": {
    "collapsed": false,
    "ExecuteTime": {
     "end_time": "2024-11-27T11:29:20.226824400Z",
     "start_time": "2024-11-27T11:29:20.201873800Z"
    }
   },
   "id": "8a62063371f85bc7"
  },
  {
   "cell_type": "code",
   "execution_count": 56,
   "outputs": [
    {
     "name": "stdout",
     "output_type": "stream",
     "text": [
      "             date  count   datetime\n",
      "0  2010.12.20 (월)      1 2010-12-20\n",
      "1  2011.12.22 (목)      1 2011-12-22\n",
      "2  2024.11.21 (목)      1 2024-11-21\n",
      "3  2024.11.22 (금)      1 2024-11-22\n",
      "4  2024.11.23 (토)      2 2024-11-23\n"
     ]
    }
   ],
   "source": [
    "\n",
    "# date별로 카운트와 datetime 컬럼 추가하여 새로운 DataFrame 생성\n",
    "date_count = df.groupby('date').size().reset_index(name='count')\n",
    "\n",
    "# datetime 컬럼 추가 및 정렬\n",
    "date_count['datetime'] = pd.to_datetime(date_count['date'].str.extract(r'(\\d{4}\\.\\d{2}\\.\\d{2})')[0], format='%Y.%m.%d')\n",
    "date_count = date_count.sort_values(by='datetime').reset_index(drop=True)\n",
    "\n",
    "print(date_count)"
   ],
   "metadata": {
    "collapsed": false,
    "ExecuteTime": {
     "end_time": "2024-11-27T11:31:11.282450700Z",
     "start_time": "2024-11-27T11:31:11.235296200Z"
    }
   },
   "id": "aad571cc18c737d3"
  },
  {
   "cell_type": "code",
   "execution_count": 47,
   "outputs": [
    {
     "ename": "AttributeError",
     "evalue": "Can only use .str accessor with string values!",
     "output_type": "error",
     "traceback": [
      "\u001B[1;31m---------------------------------------------------------------------------\u001B[0m",
      "\u001B[1;31mAttributeError\u001B[0m                            Traceback (most recent call last)",
      "Cell \u001B[1;32mIn[47], line 2\u001B[0m\n\u001B[0;32m      1\u001B[0m \u001B[38;5;66;03m# 'date' 컬럼에서 날짜만 추출하여 datetime 형식으로 변환\u001B[39;00m\n\u001B[1;32m----> 2\u001B[0m df[\u001B[38;5;124m'\u001B[39m\u001B[38;5;124mdate_time\u001B[39m\u001B[38;5;124m'\u001B[39m] \u001B[38;5;241m=\u001B[39m pd\u001B[38;5;241m.\u001B[39mto_datetime(\u001B[43mdf\u001B[49m\u001B[43m[\u001B[49m\u001B[38;5;124;43m'\u001B[39;49m\u001B[38;5;124;43mdate\u001B[39;49m\u001B[38;5;124;43m'\u001B[39;49m\u001B[43m]\u001B[49m\u001B[38;5;241;43m.\u001B[39;49m\u001B[43mstr\u001B[49m\u001B[38;5;241m.\u001B[39mextract(\u001B[38;5;124mr\u001B[39m\u001B[38;5;124m'\u001B[39m\u001B[38;5;124m(\u001B[39m\u001B[38;5;124m\\\u001B[39m\u001B[38;5;124md\u001B[39m\u001B[38;5;132;01m{4}\u001B[39;00m\u001B[38;5;124m\\\u001B[39m\u001B[38;5;124m.\u001B[39m\u001B[38;5;124m\\\u001B[39m\u001B[38;5;124md\u001B[39m\u001B[38;5;132;01m{2}\u001B[39;00m\u001B[38;5;124m\\\u001B[39m\u001B[38;5;124m.\u001B[39m\u001B[38;5;124m\\\u001B[39m\u001B[38;5;124md\u001B[39m\u001B[38;5;132;01m{2}\u001B[39;00m\u001B[38;5;124m)\u001B[39m\u001B[38;5;124m'\u001B[39m)[\u001B[38;5;241m0\u001B[39m])\n\u001B[0;32m      4\u001B[0m \u001B[38;5;66;03m# 'date' 컬럼에서 고유한 날짜를 뽑고, 각 날짜에 대한 카운트 계산\u001B[39;00m\n\u001B[0;32m      5\u001B[0m event_count_by_date \u001B[38;5;241m=\u001B[39m df\u001B[38;5;241m.\u001B[39mgroupby(\u001B[38;5;124m'\u001B[39m\u001B[38;5;124mdate\u001B[39m\u001B[38;5;124m'\u001B[39m)[\u001B[38;5;124m'\u001B[39m\u001B[38;5;124meventName\u001B[39m\u001B[38;5;124m'\u001B[39m]\u001B[38;5;241m.\u001B[39mcount()\u001B[38;5;241m.\u001B[39mreset_index(name\u001B[38;5;241m=\u001B[39m\u001B[38;5;124m'\u001B[39m\u001B[38;5;124mevent_count\u001B[39m\u001B[38;5;124m'\u001B[39m)\n",
      "File \u001B[1;32mC:\\pythonProject1\\venv\\Lib\\site-packages\\pandas\\core\\generic.py:6299\u001B[0m, in \u001B[0;36mNDFrame.__getattr__\u001B[1;34m(self, name)\u001B[0m\n\u001B[0;32m   6292\u001B[0m \u001B[38;5;28;01mif\u001B[39;00m (\n\u001B[0;32m   6293\u001B[0m     name \u001B[38;5;129;01mnot\u001B[39;00m \u001B[38;5;129;01min\u001B[39;00m \u001B[38;5;28mself\u001B[39m\u001B[38;5;241m.\u001B[39m_internal_names_set\n\u001B[0;32m   6294\u001B[0m     \u001B[38;5;129;01mand\u001B[39;00m name \u001B[38;5;129;01mnot\u001B[39;00m \u001B[38;5;129;01min\u001B[39;00m \u001B[38;5;28mself\u001B[39m\u001B[38;5;241m.\u001B[39m_metadata\n\u001B[0;32m   6295\u001B[0m     \u001B[38;5;129;01mand\u001B[39;00m name \u001B[38;5;129;01mnot\u001B[39;00m \u001B[38;5;129;01min\u001B[39;00m \u001B[38;5;28mself\u001B[39m\u001B[38;5;241m.\u001B[39m_accessors\n\u001B[0;32m   6296\u001B[0m     \u001B[38;5;129;01mand\u001B[39;00m \u001B[38;5;28mself\u001B[39m\u001B[38;5;241m.\u001B[39m_info_axis\u001B[38;5;241m.\u001B[39m_can_hold_identifiers_and_holds_name(name)\n\u001B[0;32m   6297\u001B[0m ):\n\u001B[0;32m   6298\u001B[0m     \u001B[38;5;28;01mreturn\u001B[39;00m \u001B[38;5;28mself\u001B[39m[name]\n\u001B[1;32m-> 6299\u001B[0m \u001B[38;5;28;01mreturn\u001B[39;00m \u001B[38;5;28;43mobject\u001B[39;49m\u001B[38;5;241;43m.\u001B[39;49m\u001B[38;5;21;43m__getattribute__\u001B[39;49m\u001B[43m(\u001B[49m\u001B[38;5;28;43mself\u001B[39;49m\u001B[43m,\u001B[49m\u001B[43m \u001B[49m\u001B[43mname\u001B[49m\u001B[43m)\u001B[49m\n",
      "File \u001B[1;32mC:\\pythonProject1\\venv\\Lib\\site-packages\\pandas\\core\\accessor.py:224\u001B[0m, in \u001B[0;36mCachedAccessor.__get__\u001B[1;34m(self, obj, cls)\u001B[0m\n\u001B[0;32m    221\u001B[0m \u001B[38;5;28;01mif\u001B[39;00m obj \u001B[38;5;129;01mis\u001B[39;00m \u001B[38;5;28;01mNone\u001B[39;00m:\n\u001B[0;32m    222\u001B[0m     \u001B[38;5;66;03m# we're accessing the attribute of the class, i.e., Dataset.geo\u001B[39;00m\n\u001B[0;32m    223\u001B[0m     \u001B[38;5;28;01mreturn\u001B[39;00m \u001B[38;5;28mself\u001B[39m\u001B[38;5;241m.\u001B[39m_accessor\n\u001B[1;32m--> 224\u001B[0m accessor_obj \u001B[38;5;241m=\u001B[39m \u001B[38;5;28;43mself\u001B[39;49m\u001B[38;5;241;43m.\u001B[39;49m\u001B[43m_accessor\u001B[49m\u001B[43m(\u001B[49m\u001B[43mobj\u001B[49m\u001B[43m)\u001B[49m\n\u001B[0;32m    225\u001B[0m \u001B[38;5;66;03m# Replace the property with the accessor object. Inspired by:\u001B[39;00m\n\u001B[0;32m    226\u001B[0m \u001B[38;5;66;03m# https://www.pydanny.com/cached-property.html\u001B[39;00m\n\u001B[0;32m    227\u001B[0m \u001B[38;5;66;03m# We need to use object.__setattr__ because we overwrite __setattr__ on\u001B[39;00m\n\u001B[0;32m    228\u001B[0m \u001B[38;5;66;03m# NDFrame\u001B[39;00m\n\u001B[0;32m    229\u001B[0m \u001B[38;5;28mobject\u001B[39m\u001B[38;5;241m.\u001B[39m\u001B[38;5;21m__setattr__\u001B[39m(obj, \u001B[38;5;28mself\u001B[39m\u001B[38;5;241m.\u001B[39m_name, accessor_obj)\n",
      "File \u001B[1;32mC:\\pythonProject1\\venv\\Lib\\site-packages\\pandas\\core\\strings\\accessor.py:191\u001B[0m, in \u001B[0;36mStringMethods.__init__\u001B[1;34m(self, data)\u001B[0m\n\u001B[0;32m    188\u001B[0m \u001B[38;5;28;01mdef\u001B[39;00m \u001B[38;5;21m__init__\u001B[39m(\u001B[38;5;28mself\u001B[39m, data) \u001B[38;5;241m-\u001B[39m\u001B[38;5;241m>\u001B[39m \u001B[38;5;28;01mNone\u001B[39;00m:\n\u001B[0;32m    189\u001B[0m     \u001B[38;5;28;01mfrom\u001B[39;00m \u001B[38;5;21;01mpandas\u001B[39;00m\u001B[38;5;21;01m.\u001B[39;00m\u001B[38;5;21;01mcore\u001B[39;00m\u001B[38;5;21;01m.\u001B[39;00m\u001B[38;5;21;01marrays\u001B[39;00m\u001B[38;5;21;01m.\u001B[39;00m\u001B[38;5;21;01mstring_\u001B[39;00m \u001B[38;5;28;01mimport\u001B[39;00m StringDtype\n\u001B[1;32m--> 191\u001B[0m     \u001B[38;5;28mself\u001B[39m\u001B[38;5;241m.\u001B[39m_inferred_dtype \u001B[38;5;241m=\u001B[39m \u001B[38;5;28;43mself\u001B[39;49m\u001B[38;5;241;43m.\u001B[39;49m\u001B[43m_validate\u001B[49m\u001B[43m(\u001B[49m\u001B[43mdata\u001B[49m\u001B[43m)\u001B[49m\n\u001B[0;32m    192\u001B[0m     \u001B[38;5;28mself\u001B[39m\u001B[38;5;241m.\u001B[39m_is_categorical \u001B[38;5;241m=\u001B[39m \u001B[38;5;28misinstance\u001B[39m(data\u001B[38;5;241m.\u001B[39mdtype, CategoricalDtype)\n\u001B[0;32m    193\u001B[0m     \u001B[38;5;28mself\u001B[39m\u001B[38;5;241m.\u001B[39m_is_string \u001B[38;5;241m=\u001B[39m \u001B[38;5;28misinstance\u001B[39m(data\u001B[38;5;241m.\u001B[39mdtype, StringDtype)\n",
      "File \u001B[1;32mC:\\pythonProject1\\venv\\Lib\\site-packages\\pandas\\core\\strings\\accessor.py:245\u001B[0m, in \u001B[0;36mStringMethods._validate\u001B[1;34m(data)\u001B[0m\n\u001B[0;32m    242\u001B[0m inferred_dtype \u001B[38;5;241m=\u001B[39m lib\u001B[38;5;241m.\u001B[39minfer_dtype(values, skipna\u001B[38;5;241m=\u001B[39m\u001B[38;5;28;01mTrue\u001B[39;00m)\n\u001B[0;32m    244\u001B[0m \u001B[38;5;28;01mif\u001B[39;00m inferred_dtype \u001B[38;5;129;01mnot\u001B[39;00m \u001B[38;5;129;01min\u001B[39;00m allowed_types:\n\u001B[1;32m--> 245\u001B[0m     \u001B[38;5;28;01mraise\u001B[39;00m \u001B[38;5;167;01mAttributeError\u001B[39;00m(\u001B[38;5;124m\"\u001B[39m\u001B[38;5;124mCan only use .str accessor with string values!\u001B[39m\u001B[38;5;124m\"\u001B[39m)\n\u001B[0;32m    246\u001B[0m \u001B[38;5;28;01mreturn\u001B[39;00m inferred_dtype\n",
      "\u001B[1;31mAttributeError\u001B[0m: Can only use .str accessor with string values!"
     ]
    }
   ],
   "source": [
    "# 'date' 컬럼에서 날짜만 추출하여 datetime 형식으로 변환\n",
    "df['date_time'] = pd.to_datetime(df['date'].str.extract(r'(\\d{4}\\.\\d{2}\\.\\d{2})')[0])\n",
    "\n",
    "# 'date' 컬럼에서 고유한 날짜를 뽑고, 각 날짜에 대한 카운트 계산\n",
    "event_count_by_date = df.groupby('date')['eventName'].count().reset_index(name='event_count')\n",
    "\n",
    "# 'date' 컬럼을 datetime 형식으로 변환한 'date_time' 컬럼을 추가\n",
    "event_count_by_date['date_time'] = pd.to_datetime(event_count_by_date['date'].str.extract(r'(\\d{4}\\.\\d{2}\\.\\d{2})')[0])\n",
    "\n",
    "# 'date_time' 컬럼을 기준으로 정렬\n",
    "event_count_by_date_sorted = event_count_by_date.sort_values(by='date_time')\n",
    "\n",
    "# 최종 출력\n",
    "print(event_count_by_date_sorted[['date', 'event_count']])"
   ],
   "metadata": {
    "collapsed": false,
    "ExecuteTime": {
     "end_time": "2024-11-27T11:22:42.415555700Z",
     "start_time": "2024-11-27T11:22:42.362697500Z"
    }
   },
   "id": "b20c76ac6d56d1d5"
  },
  {
   "cell_type": "markdown",
   "source": [],
   "metadata": {
    "collapsed": false
   },
   "id": "c327b0fbd52666d4"
  },
  {
   "cell_type": "code",
   "execution_count": 39,
   "outputs": [
    {
     "data": {
      "text/plain": "True"
     },
     "execution_count": 39,
     "metadata": {},
     "output_type": "execute_result"
    }
   ],
   "source": [
    "from pyhwpx import Hwp\n",
    "hwp = Hwp()\n",
    "hwp.Open(r\"../../template/dongrealtemplate2.hwp\")\n"
   ],
   "metadata": {
    "collapsed": false,
    "ExecuteTime": {
     "end_time": "2024-11-27T10:50:00.403966300Z",
     "start_time": "2024-11-27T10:49:58.761520100Z"
    }
   },
   "id": "cdfbe7d4c4396453"
  },
  {
   "cell_type": "code",
   "execution_count": 40,
   "outputs": [
    {
     "data": {
      "text/plain": "True"
     },
     "execution_count": 40,
     "metadata": {},
     "output_type": "execute_result"
    }
   ],
   "source": [
    "hwp.set_pos(11, 0, 0)\n",
    "hwp.TableCellBlock()\n",
    "hwp.TableCellBlockExtend()\n",
    "hwp.TableColEnd()\n",
    "hwp.TableColPageDown()\n",
    "hwp.TableDeleteCell(remain_cell=True)\n",
    "hwp.delete_all_fields()\n",
    "\n"
   ],
   "metadata": {
    "collapsed": false,
    "ExecuteTime": {
     "end_time": "2024-11-27T10:50:48.252986200Z",
     "start_time": "2024-11-27T10:50:47.498426500Z"
    }
   },
   "id": "866186ef0c69ed21"
  },
  {
   "cell_type": "code",
   "execution_count": 33,
   "outputs": [
    {
     "data": {
      "text/plain": "True"
     },
     "execution_count": 33,
     "metadata": {},
     "output_type": "execute_result"
    }
   ],
   "source": [
    "import pandas as pd\n",
    "\n",
    "\n",
    "# 날짜를 datetime 형식으로 변환 (정렬만을 위한 변환)\n",
    "df['date_datetime'] = pd.to_datetime(df['date'].str.extract(r'(\\d{4}\\.\\d{2}\\.\\d{2})')[0])\n",
    "\n",
    "# 날짜별 이벤트 수 카운트\n",
    "event_count_by_date = df.groupby('date')['eventName'].count().reset_index(name='event_count')\n",
    "\n",
    "# 날짜를 datetime 형식으로 정렬\n",
    "event_count_by_date_sorted = event_count_by_date.sort_values(by='date_datetime')\n",
    "\n",
    "# 결과 출력\n",
    "print(event_count_by_date_sorted[['date', 'event_count']])\n"
   ],
   "metadata": {
    "collapsed": false,
    "ExecuteTime": {
     "end_time": "2024-11-27T10:38:26.252763600Z",
     "start_time": "2024-11-27T10:38:26.177727100Z"
    }
   },
   "id": "aa9774ac46b7151"
  },
  {
   "cell_type": "code",
   "execution_count": 65,
   "outputs": [],
   "source": [
    "hwp.get_pos()\n",
    "def date_field_initial():\n",
    "    for i in range(7):\n",
    "        hwp.set_pos(11 + i * 14, 0, 0)\n",
    "        hwp.set_cur_field_name(\"date\")\n",
    "        \n",
    "date_field_initial()"
   ],
   "metadata": {
    "collapsed": false,
    "ExecuteTime": {
     "end_time": "2024-11-20T07:22:35.626492Z",
     "start_time": "2024-11-20T07:22:35.574598800Z"
    }
   },
   "id": "43915e32bc59d7ef"
  },
  {
   "cell_type": "code",
   "execution_count": 64,
   "outputs": [
    {
     "data": {
      "text/plain": "True"
     },
     "execution_count": 64,
     "metadata": {},
     "output_type": "execute_result"
    }
   ],
   "source": [
    "hwp.set_pos(12, 0, 0)\n",
    "hwp.TableCellBlock()\n",
    "hwp.TableCellBlockExtend()\n",
    "hwp.TableColPageDown()\n",
    "hwp.set_cur_field_name(\"time\")"
   ],
   "metadata": {
    "collapsed": false,
    "ExecuteTime": {
     "end_time": "2024-11-20T07:21:58.001343100Z",
     "start_time": "2024-11-20T07:21:57.855305800Z"
    }
   },
   "id": "54d8346517071874"
  },
  {
   "cell_type": "code",
   "execution_count": 26,
   "outputs": [
    {
     "data": {
      "text/plain": "(0, 0, 16)"
     },
     "execution_count": 26,
     "metadata": {},
     "output_type": "execute_result"
    }
   ],
   "source": [
    "hwp.MoveDocBegin()\n",
    "hwp.set_pos(0,1,0)  "
   ],
   "metadata": {
    "collapsed": false,
    "ExecuteTime": {
     "end_time": "2024-11-20T04:50:45.969985600Z",
     "start_time": "2024-11-20T04:50:45.958508200Z"
    }
   },
   "id": "51820a8ab4fd0e41"
  },
  {
   "cell_type": "code",
   "execution_count": 35,
   "outputs": [
    {
     "ename": "KeyboardInterrupt",
     "evalue": "",
     "output_type": "error",
     "traceback": [
      "\u001B[1;31m---------------------------------------------------------------------------\u001B[0m",
      "\u001B[1;31mKeyboardInterrupt\u001B[0m                         Traceback (most recent call last)",
      "Cell \u001B[1;32mIn[35], line 5\u001B[0m\n\u001B[0;32m      3\u001B[0m \u001B[38;5;28;01mwhile\u001B[39;00m (hwp\u001B[38;5;241m.\u001B[39mMoveSelNextWord()\u001B[38;5;241m!=\u001B[39m\u001B[38;5;124m\"\u001B[39m\u001B[38;5;124m】\u001B[39m\u001B[38;5;124m\"\u001B[39m): \u001B[38;5;66;03m#]가 아니면 오른쪽으로 sel이동\u001B[39;00m\n\u001B[0;32m      4\u001B[0m     hwp\u001B[38;5;241m.\u001B[39mMoveSelRight()\n\u001B[1;32m----> 5\u001B[0m     text \u001B[38;5;241m=\u001B[39m \u001B[43mhwp\u001B[49m\u001B[38;5;241;43m.\u001B[39;49m\u001B[43mget_selected_text\u001B[49m\u001B[43m(\u001B[49m\u001B[43m)\u001B[49m  \u001B[38;5;66;03m# 문자열을 가져와서\u001B[39;00m\n",
      "File \u001B[1;32mC:\\pythonProject1\\venv\\Lib\\site-packages\\pyhwpx.py:3512\u001B[0m, in \u001B[0;36mHwp.get_selected_text\u001B[1;34m(self, as_)\u001B[0m\n\u001B[0;32m   3510\u001B[0m state \u001B[38;5;241m=\u001B[39m \u001B[38;5;241m2\u001B[39m\n\u001B[0;32m   3511\u001B[0m \u001B[38;5;28;01mwhile\u001B[39;00m state \u001B[38;5;129;01mnot\u001B[39;00m \u001B[38;5;129;01min\u001B[39;00m [\u001B[38;5;241m0\u001B[39m, \u001B[38;5;241m1\u001B[39m]:\n\u001B[1;32m-> 3512\u001B[0m     state, text \u001B[38;5;241m=\u001B[39m \u001B[38;5;28;43mself\u001B[39;49m\u001B[38;5;241;43m.\u001B[39;49m\u001B[43mhwp\u001B[49m\u001B[38;5;241;43m.\u001B[39;49m\u001B[43mGetText\u001B[49m\u001B[43m(\u001B[49m\u001B[43m)\u001B[49m\n\u001B[0;32m   3513\u001B[0m     \u001B[38;5;28;01mif\u001B[39;00m as_ \u001B[38;5;241m==\u001B[39m \u001B[38;5;124m\"\u001B[39m\u001B[38;5;124mlist\u001B[39m\u001B[38;5;124m\"\u001B[39m:\n\u001B[0;32m   3514\u001B[0m         result\u001B[38;5;241m.\u001B[39mappend(text)\n",
      "File \u001B[1;32m~\\AppData\\Local\\Temp\\gen_py\\3.12\\7D2B6F3C-1D95-4E0C-BF5A-5EE564186FBCx0x1x0.py:9782\u001B[0m, in \u001B[0;36mIHwpObject.GetText\u001B[1;34m(self, Text)\u001B[0m\n\u001B[0;32m   9780\u001B[0m \u001B[38;5;28;01mdef\u001B[39;00m \u001B[38;5;21mGetText\u001B[39m(\u001B[38;5;28mself\u001B[39m, Text\u001B[38;5;241m=\u001B[39mpythoncom\u001B[38;5;241m.\u001B[39mMissing):\n\u001B[0;32m   9781\u001B[0m \t\u001B[38;5;124m'\u001B[39m\u001B[38;5;124mmethod GetText\u001B[39m\u001B[38;5;124m'\u001B[39m\n\u001B[1;32m-> 9782\u001B[0m \t\u001B[38;5;28;01mreturn\u001B[39;00m \u001B[38;5;28;43mself\u001B[39;49m\u001B[38;5;241;43m.\u001B[39;49m\u001B[43m_ApplyTypes_\u001B[49m\u001B[43m(\u001B[49m\u001B[38;5;241;43m10019\u001B[39;49m\u001B[43m,\u001B[49m\u001B[43m \u001B[49m\u001B[38;5;241;43m1\u001B[39;49m\u001B[43m,\u001B[49m\u001B[43m \u001B[49m\u001B[43m(\u001B[49m\u001B[38;5;241;43m3\u001B[39;49m\u001B[43m,\u001B[49m\u001B[43m \u001B[49m\u001B[38;5;241;43m0\u001B[39;49m\u001B[43m)\u001B[49m\u001B[43m,\u001B[49m\u001B[43m \u001B[49m\u001B[43m(\u001B[49m\u001B[43m(\u001B[49m\u001B[38;5;241;43m16392\u001B[39;49m\u001B[43m,\u001B[49m\u001B[43m \u001B[49m\u001B[38;5;241;43m2\u001B[39;49m\u001B[43m)\u001B[49m\u001B[43m,\u001B[49m\u001B[43m)\u001B[49m\u001B[43m,\u001B[49m\u001B[43m \u001B[49m\u001B[38;5;124;43m'\u001B[39;49m\u001B[38;5;124;43mGetText\u001B[39;49m\u001B[38;5;124;43m'\u001B[39;49m\u001B[43m,\u001B[49m\u001B[43m \u001B[49m\u001B[38;5;28;43;01mNone\u001B[39;49;00m\u001B[43m,\u001B[49m\u001B[43mText\u001B[49m\n\u001B[0;32m   9783\u001B[0m \u001B[43m\t\t\u001B[49m\u001B[43m)\u001B[49m\n",
      "File \u001B[1;32mC:\\pythonProject1\\venv\\Lib\\site-packages\\win32com\\client\\__init__.py:549\u001B[0m, in \u001B[0;36mDispatchBaseClass._ApplyTypes_\u001B[1;34m(self, dispid, wFlags, retType, argTypes, user, resultCLSID, *args)\u001B[0m\n\u001B[0;32m    547\u001B[0m \u001B[38;5;28;01mdef\u001B[39;00m \u001B[38;5;21m_ApplyTypes_\u001B[39m(\u001B[38;5;28mself\u001B[39m, dispid, wFlags, retType, argTypes, user, resultCLSID, \u001B[38;5;241m*\u001B[39margs):\n\u001B[0;32m    548\u001B[0m     \u001B[38;5;28;01mreturn\u001B[39;00m \u001B[38;5;28mself\u001B[39m\u001B[38;5;241m.\u001B[39m_get_good_object_(\n\u001B[1;32m--> 549\u001B[0m         \u001B[38;5;28;43mself\u001B[39;49m\u001B[38;5;241;43m.\u001B[39;49m\u001B[43m_oleobj_\u001B[49m\u001B[38;5;241;43m.\u001B[39;49m\u001B[43mInvokeTypes\u001B[49m\u001B[43m(\u001B[49m\u001B[43mdispid\u001B[49m\u001B[43m,\u001B[49m\u001B[43m \u001B[49m\u001B[38;5;241;43m0\u001B[39;49m\u001B[43m,\u001B[49m\u001B[43m \u001B[49m\u001B[43mwFlags\u001B[49m\u001B[43m,\u001B[49m\u001B[43m \u001B[49m\u001B[43mretType\u001B[49m\u001B[43m,\u001B[49m\u001B[43m \u001B[49m\u001B[43margTypes\u001B[49m\u001B[43m,\u001B[49m\u001B[43m \u001B[49m\u001B[38;5;241;43m*\u001B[39;49m\u001B[43margs\u001B[49m\u001B[43m)\u001B[49m,\n\u001B[0;32m    550\u001B[0m         user,\n\u001B[0;32m    551\u001B[0m         resultCLSID,\n\u001B[0;32m    552\u001B[0m     )\n",
      "\u001B[1;31mKeyboardInterrupt\u001B[0m: "
     ]
    }
   ],
   "source": [
    "hwp.MoveDocBegin()  # 문서 시작점으로 이동한 후,\n",
    "\n",
    "while (hwp.MoveSelNextWord()!=\"】\"): #]가 아니면 오른쪽으로 sel이동\n",
    "    hwp.MoveSelRight()\n",
    "    text = hwp.get_selected_text()  # 문자열을 가져와서\n"
   ],
   "metadata": {
    "collapsed": false,
    "ExecuteTime": {
     "end_time": "2024-11-20T05:27:24.365858200Z",
     "start_time": "2024-11-20T05:27:10.336186500Z"
    }
   },
   "id": "31ca0696285f2d87"
  },
  {
   "cell_type": "code",
   "execution_count": 32,
   "outputs": [
    {
     "name": "stdout",
     "output_type": "stream",
     "text": [
      "(101, '')\n"
     ]
    }
   ],
   "source": [
    "print(hwp.GetText())"
   ],
   "metadata": {
    "collapsed": false,
    "ExecuteTime": {
     "end_time": "2024-11-20T05:11:57.751912900Z",
     "start_time": "2024-11-20T05:11:57.693081300Z"
    }
   },
   "id": "5bbcedac260a5917"
  },
  {
   "cell_type": "code",
   "execution_count": 50,
   "outputs": [
    {
     "name": "stdout",
     "output_type": "stream",
     "text": [
      "【\n",
      "【2\n",
      "【20\n",
      "【202\n",
      "【2024\n",
      "【2024.\n",
      "【2024. \n",
      "【2024. 9\n",
      "【2024. 9.\n",
      "【2024. 9. \n",
      "【2024. 9. 2\n",
      "【2024. 9. 23\n",
      "【2024. 9. 23.\n",
      "【2024. 9. 23. \n",
      "【2024. 9. 23. ~\n",
      "【2024. 9. 23. ~ \n",
      "【2024. 9. 23. ~ 9\n",
      "【2024. 9. 23. ~ 9.\n",
      "【2024. 9. 23. ~ 9. \n",
      "【2024. 9. 23. ~ 9. 2\n",
      "【2024. 9. 23. ~ 9. 29\n",
      "【2024. 9. 23. ~ 9. 29.\n",
      "【2024. 9. 23. ~ 9. 29.】\n"
     ]
    }
   ],
   "source": [
    "def change_period ():\n",
    "    hwp.set_pos(0,1,0)  \n",
    "    while hwp.MoveSelRight() :\n",
    "        text = hwp.get_selected_text()  # 파이썬으로 가져와서\n",
    "        print(text)\n",
    "        if '】' in text: break # 그냥 대괄호랑은 다름\n",
    "    \n",
    "    hwp.insert_text(\"123\")\n",
    "    \n",
    "change_period()"
   ],
   "metadata": {
    "collapsed": false,
    "ExecuteTime": {
     "end_time": "2024-11-20T05:37:47.665832600Z",
     "start_time": "2024-11-20T05:37:47.211840800Z"
    }
   },
   "id": "1c5a0e52c44f3fb4"
  },
  {
   "cell_type": "code",
   "execution_count": null,
   "outputs": [],
   "source": [],
   "metadata": {
    "collapsed": false
   },
   "id": "ebb352926bc01a7b"
  }
 ],
 "metadata": {
  "kernelspec": {
   "display_name": "Python 3",
   "language": "python",
   "name": "python3"
  },
  "language_info": {
   "codemirror_mode": {
    "name": "ipython",
    "version": 2
   },
   "file_extension": ".py",
   "mimetype": "text/x-python",
   "name": "python",
   "nbconvert_exporter": "python",
   "pygments_lexer": "ipython2",
   "version": "2.7.6"
  }
 },
 "nbformat": 4,
 "nbformat_minor": 5
}
